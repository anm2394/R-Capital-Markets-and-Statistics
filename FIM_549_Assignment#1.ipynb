{
 "cells": [
  {
   "cell_type": "code",
   "execution_count": 1,
   "id": "a94da612",
   "metadata": {},
   "outputs": [],
   "source": [
    "import numpy as np\n",
    "import pandas as pd\n",
    "import matplotlib.pyplot as plt"
   ]
  },
  {
   "cell_type": "code",
   "execution_count": 2,
   "id": "458d8c8f",
   "metadata": {},
   "outputs": [],
   "source": [
    "def vol1(m,prices):\n",
    "    price=pd.DataFrame(prices,columns=['prices'])\n",
    "    price['u']=np.log(price['prices']/price['prices'].shift(1))\n",
    "    mu=price['u'].mean()\n",
    "    price['u-mu']=price['u']-mu\n",
    "    price['sq']=price['u-mu']**2\n",
    "    var=sum(price['sq'].dropna())/(m-1)\n",
    "    vol=var**0.5\n",
    "    return vol"
   ]
  },
  {
   "cell_type": "code",
   "execution_count": 3,
   "id": "c12dfa19",
   "metadata": {},
   "outputs": [],
   "source": [
    "def vol2(m,prices):\n",
    "    price=pd.DataFrame(prices,columns=['prices'])\n",
    "    price['u']=price['prices'].pct_change()\n",
    "    var=sum((price['u'].dropna())**2)/m\n",
    "    vol=var**0.5\n",
    "    return vol"
   ]
  },
  {
   "cell_type": "code",
   "execution_count": 4,
   "id": "170124f0",
   "metadata": {},
   "outputs": [
    {
     "data": {
      "text/plain": [
       "0.005469134992201668"
      ]
     },
     "execution_count": 4,
     "metadata": {},
     "output_type": "execute_result"
    }
   ],
   "source": [
    "m=10\n",
    "index=[0.7000, 0.7010, 0.7070, 0.6999, 0.6970, 0.7003, 0.6951, 0.6953, 0.6934, 0.6923, 0.6922]\n",
    "vol1(m,index)"
   ]
  },
  {
   "cell_type": "code",
   "execution_count": 5,
   "id": "10fca458",
   "metadata": {},
   "outputs": [
    {
     "data": {
      "text/plain": [
       "0.005300561724847056"
      ]
     },
     "execution_count": 5,
     "metadata": {},
     "output_type": "execute_result"
    }
   ],
   "source": [
    "vol2(m,index)"
   ]
  }
 ],
 "metadata": {
  "kernelspec": {
   "display_name": "Python 3",
   "language": "python",
   "name": "python3"
  },
  "language_info": {
   "codemirror_mode": {
    "name": "ipython",
    "version": 3
   },
   "file_extension": ".py",
   "mimetype": "text/x-python",
   "name": "python",
   "nbconvert_exporter": "python",
   "pygments_lexer": "ipython3",
   "version": "3.8.5"
  }
 },
 "nbformat": 4,
 "nbformat_minor": 5
}
